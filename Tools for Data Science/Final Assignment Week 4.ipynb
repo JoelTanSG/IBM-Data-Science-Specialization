{
 "cells": [
  {
   "cell_type": "markdown",
   "metadata": {},
   "source": [
    "#### Assignment Topic:\n",
    "\n",
    "You will create a Jupyter Notebook using IBM Watson Studio. You can choose any language you want (Python, R, or Scala). You will need to include a combination of markdown and code cells. You will likely need to use the Markdown cheatsheet to help you determine the appropriate syntax to style your markdown.\n",
    "\n",
    "#### Guidelines for the submission:\n",
    "\n",
    "Create your Jupyter Notebook on IBM Watson Studio.\n",
    "\n",
    "##### Include at least 6 cells:\n",
    "\n",
    "Cell 1 (rendered as Markdown): The title should be \"My Jupyter Notebook on IBM Watson Studio\", in H1 header styling. The title does not need to be centered.\n",
    "\n",
    "Cell 2 (rendered as Markdown): Include your name, in bold characters. In the line below your name, write your current or desired occupation in regular font.\n",
    "\n",
    "Cell 3 (rendered as Markdown): In italic formatting, write one or two sentences about why you are interested in data science. For example, you can start your first sentence with \"I am interested in data science because ...\".\n",
    "\n",
    "Cell 4 (rendered as Markdown): In H3 header styling, explain in a short sentence what your code is supposed to do in Cell 5.\n",
    "\n",
    "Cell 5 (code cell): Your code, as described in Cell 4. It must be executed and must display an output. Try to keep the code simple (it can even be \"1 + 1\").\n",
    "\n",
    "Cell 6 (rendered as Markdown): Using Markdown or HTML, this cell must include at least 3 of the following: horizontal rule, bulleted list, numbered list, tables, hyperlinks, images, code/syntax highlighting, blocked quotes, strikethrough.\n",
    "\n",
    "#### Submit:\n",
    "\n",
    "Submit the URL of your publicly shared notebook on IBM Watson Studio.\n",
    "\n",
    "The main grading criteria will be:\n",
    "\n",
    "Is the notebook publicly viewable?\n",
    "\n",
    "Are there, or does there appear to be, at least 5 Markdown cells and 1 code cell? \n",
    "\n",
    "Is the criteria for each cell fulfilled, as described in the \"Guidelines for Submission\"?\n",
    "\n",
    "Submitted [URL](https://jp-tok.dataplatform.cloud.ibm.com/analytics/notebooks/v2/3cf3bf4c-cc7c-4fed-bcaa-643ef7a98fb2/view?access_token=31421c5e1549a876e051f81607269f2ae3de73bb63d0bf4702729e20bd63cf4b)"
   ]
  },
  {
   "cell_type": "markdown",
   "metadata": {},
   "source": [
    "# My Jupyter Notebook on IBM Watson Studio"
   ]
  },
  {
   "cell_type": "markdown",
   "metadata": {},
   "source": [
    "__Joel Tan__\n",
    "\n",
    "Aspiring Data Scientist"
   ]
  },
  {
   "cell_type": "markdown",
   "metadata": {},
   "source": [
    "*Why I am keen to become a Data Scientist: I love reading, reseraching, exploring and making sense of the world around me. Being a data scientist would allow me to do so with data which holds so much insights to the world around us without being manipulated.*"
   ]
  },
  {
   "cell_type": "markdown",
   "metadata": {},
   "source": [
    "### This is a function to calculate the area of a trapezium (trapezoid). It takes in 3 arguments: 2 bases and a height."
   ]
  },
  {
   "cell_type": "code",
   "execution_count": 1,
   "metadata": {},
   "outputs": [],
   "source": [
    "def area_of_trapezium(base_a,base_b,height):\n",
    "    return (base_a + base_b) / 2 * height"
   ]
  },
  {
   "cell_type": "markdown",
   "metadata": {},
   "source": [
    "#### This is an image of a Trapezium taken from [Wikipdia](https://en.wikipedia.org/wiki/Trapezoid):\n",
    "\n",
    "<p><a href=\"https://commons.wikimedia.org/wiki/File:Trapezoid.svg#/media/File:Trapezoid.svg\"><img src=\"https://upload.wikimedia.org/wikipedia/commons/thumb/1/11/Trapezoid.svg/1200px-Trapezoid.svg.png\" alt=\"Trapezoid.svg\"></a></p>\n",
    "\n",
    "As mentioned it has 3 requirments to be able to calculate the area:\n",
    "\n",
    "1. Base 1 (a)\n",
    "2. Base 2 (b)\n",
    "3. Height (h)\n",
    "\n",
    "#### Some Motivation for Everyone\n",
    "~~You're a failure~~\n",
    "\n",
    "**\"Success is not final, failure is not fatal: It is the courage to continue that counts.\"** - Winston Churchill\n",
    "\n",
    "And finally here is a table of possible names for my future kids:\n",
    "\n",
    "|Boys        |Girls       |\n",
    "|-------------|-------------|\n",
    "|Gordon|Jamie|\n",
    "|Bruce|Kathlynn|\n",
    "|Thor|Samantha| "
   ]
  },
  {
   "cell_type": "code",
   "execution_count": null,
   "metadata": {},
   "outputs": [],
   "source": []
  }
 ],
 "metadata": {
  "kernelspec": {
   "display_name": "Python 3 (ipykernel)",
   "language": "python",
   "name": "python3"
  },
  "language_info": {
   "codemirror_mode": {
    "name": "ipython",
    "version": 3
   },
   "file_extension": ".py",
   "mimetype": "text/x-python",
   "name": "python",
   "nbconvert_exporter": "python",
   "pygments_lexer": "ipython3",
   "version": "3.8.12"
  }
 },
 "nbformat": 4,
 "nbformat_minor": 1
}
