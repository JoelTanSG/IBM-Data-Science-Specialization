{
 "cells": [
  {
   "cell_type": "markdown",
   "metadata": {},
   "source": [
    "<center>\n",
    "    <img src=\"https://cf-courses-data.s3.us.cloud-object-storage.appdomain.cloud/IBMDeveloperSkillsNetwork-PY0101EN-SkillsNetwork/IDSNlogo.png\" width=\"300\" alt=\"cognitiveclass.ai logo\"  />\n",
    "</center>\n",
    "\n",
    "# Watson Speech to Text Translator\n",
    "\n",
    "Estimated time needed: **25** minutes\n",
    "\n",
    "## Objectives\n",
    "\n",
    "After completing this lab you will be able to:\n",
    "\n",
    "*   Operate a Speech to Text Translator through an API\n"
   ]
  },
  {
   "cell_type": "markdown",
   "metadata": {},
   "source": [
    "### Introduction\n",
    "\n",
    "<p>In this notebook, you will learn to convert an audio file of an English speaker to text using a Speech to Text API. Then, you will translate the English version to a Spanish version using a Language Translator API. <b>Note:</b> You must obtain the API keys and endpoints to complete the lab.</p>\n"
   ]
  },
  {
   "cell_type": "markdown",
   "metadata": {},
   "source": [
    "<div class=\"alert alert-block alert-info\" style=\"margin-top: 20px\">\n",
    "<h2>Table of Contents</h2>\n",
    "<ul>\n",
    "    <li><a href=\"https://#ref0\">Speech To Text</a></li>\n",
    "    <li><a href=\"https://#ref1\">Language Translator</a></li>\n",
    "    <li><a href=\"https://#ref2\">Exercise</a></li>\n",
    "</ul>\n",
    "</div>\n"
   ]
  },
  {
   "cell_type": "code",
   "execution_count": 1,
   "metadata": {
    "jupyter": {
     "outputs_hidden": false
    }
   },
   "outputs": [
    {
     "name": "stdout",
     "output_type": "stream",
     "text": [
      "Collecting ibm_watson\n",
      "  Downloading ibm-watson-5.3.0.tar.gz (412 kB)\n",
      "     |████████████████████████████████| 412 kB 7.1 MB/s            \n",
      "\u001b[?25h  Installing build dependencies ... \u001b[?25ldone\n",
      "\u001b[?25h  Getting requirements to build wheel ... \u001b[?25ldone\n",
      "\u001b[?25h  Preparing metadata (pyproject.toml) ... \u001b[?25ldone\n",
      "\u001b[?25hCollecting wget\n",
      "  Downloading wget-3.2.zip (10 kB)\n",
      "  Preparing metadata (setup.py) ... \u001b[?25ldone\n",
      "\u001b[?25hCollecting ibm-cloud-sdk-core==3.*,>=3.3.6\n",
      "  Downloading ibm-cloud-sdk-core-3.13.2.tar.gz (49 kB)\n",
      "     |████████████████████████████████| 49 kB 13.0 MB/s            \n",
      "\u001b[?25h  Preparing metadata (setup.py) ... \u001b[?25ldone\n",
      "\u001b[?25hCollecting websocket-client==1.1.0\n",
      "  Downloading websocket_client-1.1.0-py2.py3-none-any.whl (68 kB)\n",
      "     |████████████████████████████████| 68 kB 6.3 MB/s             \n",
      "\u001b[?25hRequirement already satisfied: requests<3.0,>=2.0 in /Users/joeltan/opt/anaconda3/lib/python3.8/site-packages (from ibm_watson) (2.25.1)\n",
      "Requirement already satisfied: python-dateutil>=2.5.3 in /Users/joeltan/opt/anaconda3/lib/python3.8/site-packages (from ibm_watson) (2.8.1)\n",
      "Collecting requests<3.0,>=2.0\n",
      "  Downloading requests-2.26.0-py2.py3-none-any.whl (62 kB)\n",
      "     |████████████████████████████████| 62 kB 2.0 MB/s             \n",
      "\u001b[?25hRequirement already satisfied: urllib3<2.0.0,>=1.26.0 in /Users/joeltan/opt/anaconda3/lib/python3.8/site-packages (from ibm-cloud-sdk-core==3.*,>=3.3.6->ibm_watson) (1.26.4)\n",
      "Collecting PyJWT<3.0.0,>=2.0.1\n",
      "  Downloading PyJWT-2.3.0-py3-none-any.whl (16 kB)\n",
      "Requirement already satisfied: six>=1.5 in /Users/joeltan/opt/anaconda3/lib/python3.8/site-packages (from python-dateutil>=2.5.3->ibm_watson) (1.15.0)\n",
      "Requirement already satisfied: certifi>=2017.4.17 in /Users/joeltan/opt/anaconda3/lib/python3.8/site-packages (from requests<3.0,>=2.0->ibm_watson) (2020.12.5)\n",
      "Requirement already satisfied: idna<4,>=2.5 in /Users/joeltan/opt/anaconda3/lib/python3.8/site-packages (from requests<3.0,>=2.0->ibm_watson) (2.10)\n",
      "Collecting charset-normalizer~=2.0.0\n",
      "  Downloading charset_normalizer-2.0.9-py3-none-any.whl (39 kB)\n",
      "Building wheels for collected packages: ibm-watson, ibm-cloud-sdk-core, wget\n",
      "  Building wheel for ibm-watson (pyproject.toml) ... \u001b[?25ldone\n",
      "\u001b[?25h  Created wheel for ibm-watson: filename=ibm_watson-5.3.0-py3-none-any.whl size=408872 sha256=17018f2ad7379831b037f0872fa4e1e5899fb4e3bf7b72a001f5e74ec1377334\n",
      "  Stored in directory: /Users/joeltan/Library/Caches/pip/wheels/79/7c/1e/3fc8483af029cd8cb8c803eeaf282cbeb60724130d9dca4b83\n",
      "  Building wheel for ibm-cloud-sdk-core (setup.py) ... \u001b[?25ldone\n",
      "\u001b[?25h  Created wheel for ibm-cloud-sdk-core: filename=ibm_cloud_sdk_core-3.13.2-py3-none-any.whl size=83241 sha256=1abbfbbaf5991fe9ed62553cdfa8c879b68af11dbe30860df57b5c3c9430d054\n",
      "  Stored in directory: /Users/joeltan/Library/Caches/pip/wheels/64/bc/0c/194b0fa792d3c83fdd2863ad6f0ee8a3bbe6bc65a226628067\n",
      "  Building wheel for wget (setup.py) ... \u001b[?25ldone\n",
      "\u001b[?25h  Created wheel for wget: filename=wget-3.2-py3-none-any.whl size=9672 sha256=65437b97081d9515d70905123b161c391c0119a9218267ed7648a5c40485f658\n",
      "  Stored in directory: /Users/joeltan/Library/Caches/pip/wheels/bd/a8/c3/3cf2c14a1837a4e04bd98631724e81f33f462d86a1d895fae0\n",
      "Successfully built ibm-watson ibm-cloud-sdk-core wget\n",
      "Installing collected packages: charset-normalizer, requests, PyJWT, websocket-client, ibm-cloud-sdk-core, wget, ibm-watson\n",
      "  Attempting uninstall: requests\n",
      "    Found existing installation: requests 2.25.1\n",
      "    Uninstalling requests-2.25.1:\n",
      "      Successfully uninstalled requests-2.25.1\n",
      "\u001b[31mERROR: pip's dependency resolver does not currently take into account all the packages that are installed. This behaviour is the source of the following dependency conflicts.\n",
      "conda-repo-cli 1.0.4 requires pathlib, which is not installed.\n",
      "anaconda-project 0.9.1 requires ruamel-yaml, which is not installed.\u001b[0m\n",
      "Successfully installed PyJWT-2.3.0 charset-normalizer-2.0.9 ibm-cloud-sdk-core-3.13.2 ibm-watson-5.3.0 requests-2.26.0 websocket-client-1.1.0 wget-3.2\n"
     ]
    }
   ],
   "source": [
    "#you will need the following library \n",
    "!pip install ibm_watson wget"
   ]
  },
  {
   "cell_type": "markdown",
   "metadata": {},
   "source": [
    "<h2 id=\"ref0\">Speech to Text</h2>\n"
   ]
  },
  {
   "cell_type": "markdown",
   "metadata": {},
   "source": [
    "<p>First we import <code>SpeechToTextV1</code> from <code>ibm_watson</code>. For more information on the API, please click on this <a href=\"https://cloud.ibm.com/apidocs/speech-to-text?utm_medium=Exinfluencer&utm_source=Exinfluencer&utm_content=000026UJ&utm_term=10006555&utm_id=NA-SkillsNetwork-Channel-SkillsNetworkCoursesIBMDeveloperSkillsNetworkPY0101ENSkillsNetwork19487395-2021-01-01&code=python\">link</a>.</p>\n"
   ]
  },
  {
   "cell_type": "code",
   "execution_count": 1,
   "metadata": {
    "jupyter": {
     "outputs_hidden": false
    }
   },
   "outputs": [],
   "source": [
    "from ibm_watson import SpeechToTextV1 \n",
    "import json\n",
    "from ibm_cloud_sdk_core.authenticators import IAMAuthenticator"
   ]
  },
  {
   "cell_type": "markdown",
   "metadata": {},
   "source": [
    "<p>The service endpoint is based on the location of the service instance, we store the information in the variable URL. To find out which URL to use, view the service credentials and paste the url here.</p>\n"
   ]
  },
  {
   "cell_type": "code",
   "execution_count": 14,
   "metadata": {},
   "outputs": [],
   "source": [
    "url_s2t = \"https://api.jp-tok.language-translator.watson.cloud.ibm.com/instances/2b99f655-3fdf-4ea4-947e-ea1b22dae521\""
   ]
  },
  {
   "cell_type": "markdown",
   "metadata": {},
   "source": [
    "<p>You require an API key, and you can obtain the key on the <a href=\"https://cloud.ibm.com/resources?utm_medium=Exinfluencer&utm_source=Exinfluencer&utm_content=000026UJ&utm_term=10006555&utm_id=NA-SkillsNetwork-Channel-SkillsNetworkCoursesIBMDeveloperSkillsNetworkPY0101ENSkillsNetwork19487395-2021-01-01\">Dashboard </a>.</p>\n"
   ]
  },
  {
   "cell_type": "code",
   "execution_count": 15,
   "metadata": {
    "jupyter": {
     "outputs_hidden": false
    }
   },
   "outputs": [],
   "source": [
    "iam_apikey_s2t = \"LunolS1NW6xBw4caIgu_yX8fNJbDqC76qMlISw9MGNNC\""
   ]
  },
  {
   "cell_type": "markdown",
   "metadata": {},
   "source": [
    "<p>You create a <a href=\"http://watson-developer-cloud.github.io/python-sdk/v0.25.0/apis/watson_developer_cloud.speech_to_text_v1.html?utm_medium=Exinfluencer&utm_source=Exinfluencer&utm_content=000026UJ&utm_term=10006555&utm_id=NA-SkillsNetwork-Channel-SkillsNetworkCoursesIBMDeveloperSkillsNetworkPY0101ENSkillsNetwork19487395-2021-01-01\">Speech To Text Adapter object</a> the parameters are the endpoint and API key.</p>\n"
   ]
  },
  {
   "cell_type": "code",
   "execution_count": 16,
   "metadata": {},
   "outputs": [
    {
     "data": {
      "text/plain": [
       "<ibm_watson.speech_to_text_v1_adapter.SpeechToTextV1Adapter at 0x7fed41815220>"
      ]
     },
     "execution_count": 16,
     "metadata": {},
     "output_type": "execute_result"
    }
   ],
   "source": [
    "authenticator = IAMAuthenticator(iam_apikey_s2t)\n",
    "s2t = SpeechToTextV1(authenticator=authenticator)\n",
    "s2t.set_service_url(url_s2t)\n",
    "s2t"
   ]
  },
  {
   "cell_type": "markdown",
   "metadata": {},
   "source": [
    "<p>Lets download the audio file that we will use to convert into text.</p>\n"
   ]
  },
  {
   "cell_type": "code",
   "execution_count": 10,
   "metadata": {},
   "outputs": [
    {
     "name": "stdout",
     "output_type": "stream",
     "text": [
      "GNU Wget 1.21.2, a non-interactive network retriever.\r\n",
      "Usage: wget [OPTION]... [URL]...\r\n",
      "\r\n",
      "Mandatory arguments to long options are mandatory for short options too.\r\n",
      "\r\n",
      "Startup:\r\n",
      "  -V,  --version                   display the version of Wget and exit\r\n",
      "  -h,  --help                      print this help\r\n",
      "  -b,  --background                go to background after startup\r\n",
      "  -e,  --execute=COMMAND           execute a `.wgetrc'-style command\r\n",
      "\r\n",
      "Logging and input file:\r\n",
      "  -o,  --output-file=FILE          log messages to FILE\r\n",
      "  -a,  --append-output=FILE        append messages to FILE\r\n",
      "  -d,  --debug                     print lots of debugging information\r\n",
      "  -q,  --quiet                     quiet (no output)\r\n",
      "  -v,  --verbose                   be verbose (this is the default)\r\n",
      "  -nv, --no-verbose                turn off verboseness, without being quiet\r\n",
      "       --report-speed=TYPE         output bandwidth as TYPE.  TYPE can be bits\r\n",
      "  -i,  --input-file=FILE           download URLs found in local or external FILE\r\n",
      "  -F,  --force-html                treat input file as HTML\r\n",
      "  -B,  --base=URL                  resolves HTML input-file links (-i -F)\r\n",
      "                                     relative to URL\r\n",
      "       --config=FILE               specify config file to use\r\n",
      "       --no-config                 do not read any config file\r\n",
      "       --rejected-log=FILE         log reasons for URL rejection to FILE\r\n",
      "\r\n",
      "Download:\r\n",
      "  -t,  --tries=NUMBER              set number of retries to NUMBER (0 unlimits)\r\n",
      "       --retry-connrefused         retry even if connection is refused\r\n",
      "       --retry-on-http-error=ERRORS    comma-separated list of HTTP errors to retry\r\n",
      "  -O,  --output-document=FILE      write documents to FILE\r\n",
      "  -nc, --no-clobber                skip downloads that would download to\r\n",
      "                                     existing files (overwriting them)\r\n",
      "       --no-netrc                  don't try to obtain credentials from .netrc\r\n",
      "  -c,  --continue                  resume getting a partially-downloaded file\r\n",
      "       --start-pos=OFFSET          start downloading from zero-based position OFFSET\r\n",
      "       --progress=TYPE             select progress gauge type\r\n",
      "       --show-progress             display the progress bar in any verbosity mode\r\n",
      "  -N,  --timestamping              don't re-retrieve files unless newer than\r\n",
      "                                     local\r\n",
      "       --no-if-modified-since      don't use conditional if-modified-since get\r\n",
      "                                     requests in timestamping mode\r\n",
      "       --no-use-server-timestamps  don't set the local file's timestamp by\r\n",
      "                                     the one on the server\r\n",
      "  -S,  --server-response           print server response\r\n",
      "       --spider                    don't download anything\r\n",
      "  -T,  --timeout=SECONDS           set all timeout values to SECONDS\r\n",
      "       --dns-timeout=SECS          set the DNS lookup timeout to SECS\r\n",
      "       --connect-timeout=SECS      set the connect timeout to SECS\r\n",
      "       --read-timeout=SECS         set the read timeout to SECS\r\n",
      "  -w,  --wait=SECONDS              wait SECONDS between retrievals\r\n",
      "                                     (applies if more then 1 URL is to be retrieved)\r\n",
      "       --waitretry=SECONDS         wait 1..SECONDS between retries of a retrieval\r\n",
      "                                     (applies if more then 1 URL is to be retrieved)\r\n",
      "       --random-wait               wait from 0.5*WAIT...1.5*WAIT secs between retrievals\r\n",
      "                                     (applies if more then 1 URL is to be retrieved)\r\n",
      "       --no-proxy                  explicitly turn off proxy\r\n",
      "  -Q,  --quota=NUMBER              set retrieval quota to NUMBER\r\n",
      "       --bind-address=ADDRESS      bind to ADDRESS (hostname or IP) on local host\r\n",
      "       --limit-rate=RATE           limit download rate to RATE\r\n",
      "       --no-dns-cache              disable caching DNS lookups\r\n",
      "       --restrict-file-names=OS    restrict chars in file names to ones OS allows\r\n",
      "       --ignore-case               ignore case when matching files/directories\r\n",
      "  -4,  --inet4-only                connect only to IPv4 addresses\r\n",
      "  -6,  --inet6-only                connect only to IPv6 addresses\r\n",
      "       --prefer-family=FAMILY      connect first to addresses of specified family,\r\n",
      "                                     one of IPv6, IPv4, or none\r\n",
      "       --user=USER                 set both ftp and http user to USER\r\n",
      "       --password=PASS             set both ftp and http password to PASS\r\n",
      "       --ask-password              prompt for passwords\r\n",
      "       --use-askpass=COMMAND       specify credential handler for requesting \r\n",
      "                                     username and password.  If no COMMAND is \r\n",
      "                                     specified the WGET_ASKPASS or the SSH_ASKPASS \r\n",
      "                                     environment variable is used.\r\n",
      "       --no-iri                    turn off IRI support\r\n",
      "       --local-encoding=ENC        use ENC as the local encoding for IRIs\r\n",
      "       --remote-encoding=ENC       use ENC as the default remote encoding\r\n",
      "       --unlink                    remove file before clobber\r\n",
      "       --xattr                     turn on storage of metadata in extended file attributes\r\n",
      "\r\n",
      "Directories:\r\n",
      "  -nd, --no-directories            don't create directories\r\n",
      "  -x,  --force-directories         force creation of directories\r\n",
      "  -nH, --no-host-directories       don't create host directories\r\n",
      "       --protocol-directories      use protocol name in directories\r\n",
      "  -P,  --directory-prefix=PREFIX   save files to PREFIX/..\r\n",
      "       --cut-dirs=NUMBER           ignore NUMBER remote directory components\r\n",
      "\r\n",
      "HTTP options:\r\n",
      "       --http-user=USER            set http user to USER\r\n",
      "       --http-password=PASS        set http password to PASS\r\n",
      "       --no-cache                  disallow server-cached data\r\n",
      "       --default-page=NAME         change the default page name (normally\r\n",
      "                                     this is 'index.html'.)\r\n",
      "  -E,  --adjust-extension          save HTML/CSS documents with proper extensions\r\n",
      "       --ignore-length             ignore 'Content-Length' header field\r\n",
      "       --header=STRING             insert STRING among the headers\r\n",
      "       --compression=TYPE          choose compression, one of auto, gzip and none. (default: none)\r\n",
      "       --max-redirect              maximum redirections allowed per page\r\n",
      "       --proxy-user=USER           set USER as proxy username\r\n",
      "       --proxy-password=PASS       set PASS as proxy password\r\n",
      "       --referer=URL               include 'Referer: URL' header in HTTP request\r\n",
      "       --save-headers              save the HTTP headers to file\r\n",
      "  -U,  --user-agent=AGENT          identify as AGENT instead of Wget/VERSION\r\n",
      "       --no-http-keep-alive        disable HTTP keep-alive (persistent connections)\r\n",
      "       --no-cookies                don't use cookies\r\n",
      "       --load-cookies=FILE         load cookies from FILE before session\r\n",
      "       --save-cookies=FILE         save cookies to FILE after session\r\n",
      "       --keep-session-cookies      load and save session (non-permanent) cookies\r\n",
      "       --post-data=STRING          use the POST method; send STRING as the data\r\n",
      "       --post-file=FILE            use the POST method; send contents of FILE\r\n",
      "       --method=HTTPMethod         use method \"HTTPMethod\" in the request\r\n",
      "       --body-data=STRING          send STRING as data. --method MUST be set\r\n",
      "       --body-file=FILE            send contents of FILE. --method MUST be set\r\n",
      "       --content-disposition       honor the Content-Disposition header when\r\n",
      "                                     choosing local file names (EXPERIMENTAL)\r\n",
      "       --content-on-error          output the received content on server errors\r\n",
      "       --auth-no-challenge         send Basic HTTP authentication information\r\n",
      "                                     without first waiting for the server's\r\n",
      "                                     challenge\r\n",
      "\r\n",
      "HTTPS (SSL/TLS) options:\r\n",
      "       --secure-protocol=PR        choose secure protocol, one of auto, SSLv2,\r\n",
      "                                     SSLv3, TLSv1, TLSv1_1, TLSv1_2 and PFS\r\n",
      "       --https-only                only follow secure HTTPS links\r\n",
      "       --no-check-certificate      don't validate the server's certificate\r\n",
      "       --certificate=FILE          client certificate file\r\n",
      "       --certificate-type=TYPE     client certificate type, PEM or DER\r\n",
      "       --private-key=FILE          private key file\r\n",
      "       --private-key-type=TYPE     private key type, PEM or DER\r\n",
      "       --ca-certificate=FILE       file with the bundle of CAs\r\n",
      "       --ca-directory=DIR          directory where hash list of CAs is stored\r\n",
      "       --crl-file=FILE             file with bundle of CRLs\r\n",
      "       --pinnedpubkey=FILE/HASHES  Public key (PEM/DER) file, or any number\r\n",
      "                                   of base64 encoded sha256 hashes preceded by\r\n",
      "                                   'sha256//' and separated by ';', to verify\r\n",
      "                                   peer against\r\n",
      "       --random-file=FILE          file with random data for seeding the SSL PRNG\r\n",
      "\r\n",
      "       --ciphers=STR           Set the priority string (GnuTLS) or cipher list string (OpenSSL) directly.\r\n",
      "                                   Use with care. This option overrides --secure-protocol.\r\n",
      "                                   The format and syntax of this string depend on the specific SSL/TLS engine.\r\n",
      "HSTS options:\r\n",
      "       --no-hsts                   disable HSTS\r\n",
      "       --hsts-file                 path of HSTS database (will override default)\r\n",
      "\r\n",
      "FTP options:\r\n",
      "       --ftp-user=USER             set ftp user to USER\r\n",
      "       --ftp-password=PASS         set ftp password to PASS\r\n",
      "       --no-remove-listing         don't remove '.listing' files\r\n",
      "       --no-glob                   turn off FTP file name globbing\r\n",
      "       --no-passive-ftp            disable the \"passive\" transfer mode\r\n",
      "       --preserve-permissions      preserve remote file permissions\r\n",
      "       --retr-symlinks             when recursing, get linked-to files (not dir)\r\n",
      "\r\n",
      "FTPS options:\r\n",
      "       --ftps-implicit                 use implicit FTPS (default port is 990)\r\n",
      "       --ftps-resume-ssl               resume the SSL/TLS session started in the control connection when\r\n",
      "                                         opening a data connection\r\n",
      "       --ftps-clear-data-connection    cipher the control channel only; all the data will be in plaintext\r\n",
      "       --ftps-fallback-to-ftp          fall back to FTP if FTPS is not supported in the target server\r\n",
      "WARC options:\r\n",
      "       --warc-file=FILENAME        save request/response data to a .warc.gz file\r\n",
      "       --warc-header=STRING        insert STRING into the warcinfo record\r\n",
      "       --warc-max-size=NUMBER      set maximum size of WARC files to NUMBER\r\n",
      "       --warc-cdx                  write CDX index files\r\n",
      "       --warc-dedup=FILENAME       do not store records listed in this CDX file\r\n",
      "       --no-warc-compression       do not compress WARC files with GZIP\r\n",
      "       --no-warc-digests           do not calculate SHA1 digests\r\n",
      "       --no-warc-keep-log          do not store the log file in a WARC record\r\n",
      "       --warc-tempdir=DIRECTORY    location for temporary files created by the\r\n",
      "                                     WARC writer\r\n",
      "\r\n",
      "Recursive download:\r\n",
      "  -r,  --recursive                 specify recursive download\r\n",
      "  -l,  --level=NUMBER              maximum recursion depth (inf or 0 for infinite)\r\n",
      "       --delete-after              delete files locally after downloading them\r\n",
      "  -k,  --convert-links             make links in downloaded HTML or CSS point to\r\n",
      "                                     local files\r\n",
      "       --convert-file-only         convert the file part of the URLs only (usually known as the basename)\r\n",
      "       --backups=N                 before writing file X, rotate up to N backup files\r\n",
      "  -K,  --backup-converted          before converting file X, back up as X.orig\r\n",
      "  -m,  --mirror                    shortcut for -N -r -l inf --no-remove-listing\r\n",
      "  -p,  --page-requisites           get all images, etc. needed to display HTML page\r\n",
      "       --strict-comments           turn on strict (SGML) handling of HTML comments\r\n",
      "\r\n",
      "Recursive accept/reject:\r\n",
      "  -A,  --accept=LIST               comma-separated list of accepted extensions\r\n",
      "  -R,  --reject=LIST               comma-separated list of rejected extensions\r\n",
      "       --accept-regex=REGEX        regex matching accepted URLs\r\n",
      "       --reject-regex=REGEX        regex matching rejected URLs\r\n",
      "       --regex-type=TYPE           regex type (posix)\r\n",
      "  -D,  --domains=LIST              comma-separated list of accepted domains\r\n",
      "       --exclude-domains=LIST      comma-separated list of rejected domains\r\n",
      "       --follow-ftp                follow FTP links from HTML documents\r\n",
      "       --follow-tags=LIST          comma-separated list of followed HTML tags\r\n",
      "       --ignore-tags=LIST          comma-separated list of ignored HTML tags\r\n",
      "  -H,  --span-hosts                go to foreign hosts when recursive\r\n",
      "  -L,  --relative                  follow relative links only\r\n",
      "  -I,  --include-directories=LIST  list of allowed directories\r\n",
      "       --trust-server-names        use the name specified by the redirection\r\n",
      "                                     URL's last component\r\n",
      "  -X,  --exclude-directories=LIST  list of excluded directories\r\n",
      "  -np, --no-parent                 don't ascend to the parent directory\r\n",
      "\r\n",
      "Email bug reports, questions, discussions to <bug-wget@gnu.org>\r\n",
      "and/or open issues at https://savannah.gnu.org/bugs/?func=additem&group=wget.\r\n"
     ]
    }
   ],
   "source": [
    "!wget --help"
   ]
  },
  {
   "cell_type": "code",
   "execution_count": 17,
   "metadata": {},
   "outputs": [
    {
     "name": "stdout",
     "output_type": "stream",
     "text": [
      "--2021-12-17 16:29:44--  https://cf-courses-data.s3.us.cloud-object-storage.appdomain.cloud/IBMDeveloperSkillsNetwork-PY0101EN-SkillsNetwork/labs/Module%205/data/PolynomialRegressionandPipelines.mp3\n",
      "Resolving cf-courses-data.s3.us.cloud-object-storage.appdomain.cloud (cf-courses-data.s3.us.cloud-object-storage.appdomain.cloud)... 169.45.118.108\n",
      "Connecting to cf-courses-data.s3.us.cloud-object-storage.appdomain.cloud (cf-courses-data.s3.us.cloud-object-storage.appdomain.cloud)|169.45.118.108|:443... connected.\n",
      "HTTP request sent, awaiting response... 200 OK\n",
      "Length: 4234179 (4.0M) [audio/mpeg]\n",
      "Saving to: ‘PolynomialRegressionandPipelines.mp3’\n",
      "\n",
      "PolynomialRegressio 100%[===================>]   4.04M   479KB/s    in 8.4s    \n",
      "\n",
      "2021-12-17 16:29:54 (494 KB/s) - ‘PolynomialRegressionandPipelines.mp3’ saved [4234179/4234179]\n",
      "\n"
     ]
    }
   ],
   "source": [
    "!wget -O PolynomialRegressionandPipelines.mp3  https://cf-courses-data.s3.us.cloud-object-storage.appdomain.cloud/IBMDeveloperSkillsNetwork-PY0101EN-SkillsNetwork/labs/Module%205/data/PolynomialRegressionandPipelines.mp3\n",
    "\n"
   ]
  },
  {
   "cell_type": "markdown",
   "metadata": {},
   "source": [
    "<p>We have the path of the .wav file we would like to convert to text</p>\n"
   ]
  },
  {
   "cell_type": "code",
   "execution_count": 18,
   "metadata": {
    "jupyter": {
     "outputs_hidden": false
    }
   },
   "outputs": [],
   "source": [
    "filename='PolynomialRegressionandPipelines.mp3'"
   ]
  },
  {
   "cell_type": "markdown",
   "metadata": {},
   "source": [
    "<p>We create the file object <code>wav</code> with the wav file using <code>open</code>. We set the <code>mode</code> to  \"rb\" ,  this is similar to read mode, but it ensures the file is in binary mode. We use the method <code>recognize</code> to return the recognized text. The parameter <code>audio</code> is the file object <code>wav</code>, the parameter <code>content_type</code> is the format of the audio file.</p>\n"
   ]
  },
  {
   "cell_type": "code",
   "execution_count": 19,
   "metadata": {
    "jupyter": {
     "outputs_hidden": false
    }
   },
   "outputs": [
    {
     "ename": "ApiException",
     "evalue": "Error: <HTML><HEAD>\n<TITLE>Internal Server Error</TITLE>\n</HEAD><BODY>\n<H1>Internal Server Error - Write</H1>\nThe server encountered an internal error or misconfiguration and was unable to\ncomplete your request.<P>\nReference&#32;&#35;4&#46;5496f648&#46;1639729803&#46;1b159e15\n</BODY></HTML>\n, Code: 503",
     "output_type": "error",
     "traceback": [
      "\u001b[0;31m---------------------------------------------------------------------------\u001b[0m",
      "\u001b[0;31mApiException\u001b[0m                              Traceback (most recent call last)",
      "\u001b[0;32m<ipython-input-19-f84fab0fe42d>\u001b[0m in \u001b[0;36m<module>\u001b[0;34m\u001b[0m\n\u001b[1;32m      1\u001b[0m \u001b[0;32mwith\u001b[0m \u001b[0mopen\u001b[0m\u001b[0;34m(\u001b[0m\u001b[0mfilename\u001b[0m\u001b[0;34m,\u001b[0m \u001b[0mmode\u001b[0m\u001b[0;34m=\u001b[0m\u001b[0;34m\"rb\"\u001b[0m\u001b[0;34m)\u001b[0m  \u001b[0;32mas\u001b[0m \u001b[0mwav\u001b[0m\u001b[0;34m:\u001b[0m\u001b[0;34m\u001b[0m\u001b[0;34m\u001b[0m\u001b[0m\n\u001b[0;32m----> 2\u001b[0;31m     \u001b[0mresponse\u001b[0m \u001b[0;34m=\u001b[0m \u001b[0ms2t\u001b[0m\u001b[0;34m.\u001b[0m\u001b[0mrecognize\u001b[0m\u001b[0;34m(\u001b[0m\u001b[0maudio\u001b[0m\u001b[0;34m=\u001b[0m\u001b[0mwav\u001b[0m\u001b[0;34m,\u001b[0m \u001b[0mcontent_type\u001b[0m\u001b[0;34m=\u001b[0m\u001b[0;34m'audio/mp3'\u001b[0m\u001b[0;34m)\u001b[0m\u001b[0;34m\u001b[0m\u001b[0;34m\u001b[0m\u001b[0m\n\u001b[0m",
      "\u001b[0;32m~/opt/anaconda3/lib/python3.8/site-packages/ibm_watson/speech_to_text_v1.py\u001b[0m in \u001b[0;36mrecognize\u001b[0;34m(self, audio, content_type, model, language_customization_id, acoustic_customization_id, base_model_version, customization_weight, inactivity_timeout, keywords, keywords_threshold, max_alternatives, word_alternatives_threshold, word_confidence, timestamps, profanity_filter, smart_formatting, speaker_labels, customization_id, grammar_name, redaction, audio_metrics, end_of_phrase_silence_time, split_transcript_at_phrase_end, speech_detector_sensitivity, background_audio_suppression, low_latency, **kwargs)\u001b[0m\n\u001b[1;32m    564\u001b[0m                                        data=data)\n\u001b[1;32m    565\u001b[0m \u001b[0;34m\u001b[0m\u001b[0m\n\u001b[0;32m--> 566\u001b[0;31m         \u001b[0mresponse\u001b[0m \u001b[0;34m=\u001b[0m \u001b[0mself\u001b[0m\u001b[0;34m.\u001b[0m\u001b[0msend\u001b[0m\u001b[0;34m(\u001b[0m\u001b[0mrequest\u001b[0m\u001b[0;34m,\u001b[0m \u001b[0;34m**\u001b[0m\u001b[0mkwargs\u001b[0m\u001b[0;34m)\u001b[0m\u001b[0;34m\u001b[0m\u001b[0;34m\u001b[0m\u001b[0m\n\u001b[0m\u001b[1;32m    567\u001b[0m         \u001b[0;32mreturn\u001b[0m \u001b[0mresponse\u001b[0m\u001b[0;34m\u001b[0m\u001b[0;34m\u001b[0m\u001b[0m\n\u001b[1;32m    568\u001b[0m \u001b[0;34m\u001b[0m\u001b[0m\n",
      "\u001b[0;32m~/opt/anaconda3/lib/python3.8/site-packages/ibm_cloud_sdk_core/base_service.py\u001b[0m in \u001b[0;36msend\u001b[0;34m(self, request, **kwargs)\u001b[0m\n\u001b[1;32m    319\u001b[0m                                         status_code=response.status_code)\n\u001b[1;32m    320\u001b[0m \u001b[0;34m\u001b[0m\u001b[0m\n\u001b[0;32m--> 321\u001b[0;31m             \u001b[0;32mraise\u001b[0m \u001b[0mApiException\u001b[0m\u001b[0;34m(\u001b[0m\u001b[0mresponse\u001b[0m\u001b[0;34m.\u001b[0m\u001b[0mstatus_code\u001b[0m\u001b[0;34m,\u001b[0m \u001b[0mhttp_response\u001b[0m\u001b[0;34m=\u001b[0m\u001b[0mresponse\u001b[0m\u001b[0;34m)\u001b[0m\u001b[0;34m\u001b[0m\u001b[0;34m\u001b[0m\u001b[0m\n\u001b[0m\u001b[1;32m    322\u001b[0m         \u001b[0;32mexcept\u001b[0m \u001b[0mrequests\u001b[0m\u001b[0;34m.\u001b[0m\u001b[0mexceptions\u001b[0m\u001b[0;34m.\u001b[0m\u001b[0mSSLError\u001b[0m\u001b[0;34m:\u001b[0m\u001b[0;34m\u001b[0m\u001b[0;34m\u001b[0m\u001b[0m\n\u001b[1;32m    323\u001b[0m             \u001b[0mlogging\u001b[0m\u001b[0;34m.\u001b[0m\u001b[0mexception\u001b[0m\u001b[0;34m(\u001b[0m\u001b[0mself\u001b[0m\u001b[0;34m.\u001b[0m\u001b[0mERROR_MSG_DISABLE_SSL\u001b[0m\u001b[0;34m)\u001b[0m\u001b[0;34m\u001b[0m\u001b[0;34m\u001b[0m\u001b[0m\n",
      "\u001b[0;31mApiException\u001b[0m: Error: <HTML><HEAD>\n<TITLE>Internal Server Error</TITLE>\n</HEAD><BODY>\n<H1>Internal Server Error - Write</H1>\nThe server encountered an internal error or misconfiguration and was unable to\ncomplete your request.<P>\nReference&#32;&#35;4&#46;5496f648&#46;1639729803&#46;1b159e15\n</BODY></HTML>\n, Code: 503"
     ]
    }
   ],
   "source": [
    "with open(filename, mode=\"rb\")  as wav:\n",
    "    response = s2t.recognize(audio=wav, content_type='audio/mp3')"
   ]
  },
  {
   "cell_type": "markdown",
   "metadata": {},
   "source": [
    "<p>The attribute result contains a dictionary that includes the translation:</p>\n"
   ]
  },
  {
   "cell_type": "code",
   "execution_count": 20,
   "metadata": {},
   "outputs": [
    {
     "ename": "NameError",
     "evalue": "name 'response' is not defined",
     "output_type": "error",
     "traceback": [
      "\u001b[0;31m---------------------------------------------------------------------------\u001b[0m",
      "\u001b[0;31mNameError\u001b[0m                                 Traceback (most recent call last)",
      "\u001b[0;32m<ipython-input-20-8e95a0f1890d>\u001b[0m in \u001b[0;36m<module>\u001b[0;34m\u001b[0m\n\u001b[0;32m----> 1\u001b[0;31m \u001b[0mresponse\u001b[0m\u001b[0;34m.\u001b[0m\u001b[0mresult\u001b[0m\u001b[0;34m\u001b[0m\u001b[0;34m\u001b[0m\u001b[0m\n\u001b[0m",
      "\u001b[0;31mNameError\u001b[0m: name 'response' is not defined"
     ]
    }
   ],
   "source": [
    "response.result"
   ]
  },
  {
   "cell_type": "code",
   "execution_count": null,
   "metadata": {},
   "outputs": [],
   "source": [
    "from pandas import json_normalize\n",
    "\n",
    "json_normalize(response.result['results'],\"alternatives\")"
   ]
  },
  {
   "cell_type": "code",
   "execution_count": null,
   "metadata": {},
   "outputs": [],
   "source": [
    "response"
   ]
  },
  {
   "cell_type": "markdown",
   "metadata": {},
   "source": [
    "<p>We can obtain the recognized text and assign it to the variable <code>recognized_text</code>:</p>\n"
   ]
  },
  {
   "cell_type": "code",
   "execution_count": null,
   "metadata": {
    "jupyter": {
     "outputs_hidden": false
    }
   },
   "outputs": [],
   "source": [
    "recognized_text=response.result['results'][0][\"alternatives\"][0][\"transcript\"]\n",
    "type(recognized_text)"
   ]
  },
  {
   "cell_type": "markdown",
   "metadata": {},
   "source": [
    "<h2 id=\"ref1\">Language Translator</h2>\n"
   ]
  },
  {
   "cell_type": "markdown",
   "metadata": {},
   "source": [
    "<p>First we import <code>LanguageTranslatorV3</code> from ibm_watson. For more information on the API click <a href=\"https://cloud.ibm.com/apidocs/speech-to-text?utm_medium=Exinfluencer&utm_source=Exinfluencer&utm_content=000026UJ&utm_term=10006555&utm_id=NA-SkillsNetwork-Channel-SkillsNetworkCoursesIBMDeveloperSkillsNetworkPY0101ENSkillsNetwork19487395-2021-01-01&code=python\"> here</a></p>\n"
   ]
  },
  {
   "cell_type": "code",
   "execution_count": null,
   "metadata": {},
   "outputs": [],
   "source": [
    "from ibm_watson import LanguageTranslatorV3"
   ]
  },
  {
   "cell_type": "markdown",
   "metadata": {},
   "source": [
    "<p>The service endpoint is based on the location of the service instance, we store the information in the variable URL. To find out which URL to use, view the service credentials.</p>\n"
   ]
  },
  {
   "cell_type": "code",
   "execution_count": null,
   "metadata": {
    "jupyter": {
     "outputs_hidden": false
    }
   },
   "outputs": [],
   "source": [
    "url_lt=''"
   ]
  },
  {
   "cell_type": "markdown",
   "metadata": {},
   "source": [
    "<p>You require an API key, and you can obtain the key on the <a href=\"https://cloud.ibm.com/resources?utm_medium=Exinfluencer&utm_source=Exinfluencer&utm_content=000026UJ&utm_term=10006555&utm_id=NA-SkillsNetwork-Channel-SkillsNetworkCoursesIBMDeveloperSkillsNetworkPY0101ENSkillsNetwork19487395-2021-01-01\">Dashboard</a>.</p>\n"
   ]
  },
  {
   "cell_type": "code",
   "execution_count": null,
   "metadata": {
    "jupyter": {
     "outputs_hidden": false
    }
   },
   "outputs": [],
   "source": [
    "apikey_lt=''"
   ]
  },
  {
   "cell_type": "markdown",
   "metadata": {},
   "source": [
    "<p>API requests require a version parameter that takes a date in the format version=YYYY-MM-DD. This lab describes the current version of Language Translator, 2018-05-01</p>\n"
   ]
  },
  {
   "cell_type": "code",
   "execution_count": null,
   "metadata": {
    "jupyter": {
     "outputs_hidden": false
    }
   },
   "outputs": [],
   "source": [
    "version_lt='2018-05-01'"
   ]
  },
  {
   "cell_type": "markdown",
   "metadata": {},
   "source": [
    "<p>we create a  Language Translator object <code>language_translator</code>:</p>\n"
   ]
  },
  {
   "cell_type": "code",
   "execution_count": null,
   "metadata": {
    "jupyter": {
     "outputs_hidden": false
    }
   },
   "outputs": [],
   "source": [
    "authenticator = IAMAuthenticator(apikey_lt)\n",
    "language_translator = LanguageTranslatorV3(version=version_lt,authenticator=authenticator)\n",
    "language_translator.set_service_url(url_lt)\n",
    "language_translator"
   ]
  },
  {
   "cell_type": "markdown",
   "metadata": {},
   "source": [
    "<p>We can get a Lists the languages that the service can identify.\n",
    "The method Returns the language code.  For example English (en) to  Spanis (es) and name of each language.</p>\n"
   ]
  },
  {
   "cell_type": "code",
   "execution_count": null,
   "metadata": {
    "jupyter": {
     "outputs_hidden": false
    }
   },
   "outputs": [],
   "source": [
    "from pandas import json_normalize\n",
    "\n",
    "json_normalize(language_translator.list_identifiable_languages().get_result(), \"languages\")"
   ]
  },
  {
   "cell_type": "markdown",
   "metadata": {},
   "source": [
    "<p>We can use the method <code>translate</code>. This will translate the text. The parameter text is the text, Model_id is the type of model we would like to use use we use list the language. In this case, we set it to 'en-es' or English to Spanish. We get a Detailed Response object translation_response</p>\n"
   ]
  },
  {
   "cell_type": "code",
   "execution_count": null,
   "metadata": {
    "jupyter": {
     "outputs_hidden": false
    }
   },
   "outputs": [],
   "source": [
    "translation_response = language_translator.translate(\\\n",
    "    text=recognized_text, model_id='en-es')\n",
    "translation_response"
   ]
  },
  {
   "cell_type": "markdown",
   "metadata": {},
   "source": [
    "<p>The result is a dictionary.</p>\n"
   ]
  },
  {
   "cell_type": "code",
   "execution_count": null,
   "metadata": {
    "jupyter": {
     "outputs_hidden": false
    }
   },
   "outputs": [],
   "source": [
    "translation=translation_response.get_result()\n",
    "translation"
   ]
  },
  {
   "cell_type": "markdown",
   "metadata": {},
   "source": [
    "<p>We can obtain the actual translation as a string as follows:</p>\n"
   ]
  },
  {
   "cell_type": "code",
   "execution_count": null,
   "metadata": {},
   "outputs": [],
   "source": [
    "spanish_translation =translation['translations'][0]['translation']\n",
    "spanish_translation "
   ]
  },
  {
   "cell_type": "markdown",
   "metadata": {},
   "source": [
    "<p>We can translate back to English</p>\n"
   ]
  },
  {
   "cell_type": "code",
   "execution_count": null,
   "metadata": {},
   "outputs": [],
   "source": [
    "translation_new = language_translator.translate(text=spanish_translation ,model_id='es-en').get_result()"
   ]
  },
  {
   "cell_type": "markdown",
   "metadata": {},
   "source": [
    "<p>We can obtain the actual translation as a string as follows:</p>\n"
   ]
  },
  {
   "cell_type": "code",
   "execution_count": null,
   "metadata": {},
   "outputs": [],
   "source": [
    "translation_eng=translation_new['translations'][0]['translation']\n",
    "translation_eng"
   ]
  },
  {
   "cell_type": "markdown",
   "metadata": {},
   "source": [
    "<br>\n"
   ]
  },
  {
   "cell_type": "markdown",
   "metadata": {},
   "source": [
    "<h2>Quiz</h2>\n"
   ]
  },
  {
   "cell_type": "markdown",
   "metadata": {},
   "source": [
    "Translate to French.\n"
   ]
  },
  {
   "cell_type": "code",
   "execution_count": null,
   "metadata": {},
   "outputs": [],
   "source": [
    "# Write your code below and press Shift+Enter to execute\n"
   ]
  },
  {
   "cell_type": "markdown",
   "metadata": {},
   "source": [
    "<details><summary>Click here for the solution</summary>\n",
    "\n",
    "```python\n",
    "French_translation=language_translator.translate(\n",
    "    text=translation_eng , model_id='en-fr').get_result()\n",
    "\n",
    "French_translation['translations'][0]['translation']\n",
    "\n",
    "```\n",
    "\n",
    "</details>\n"
   ]
  },
  {
   "cell_type": "markdown",
   "metadata": {},
   "source": [
    "<h3>Language Translator</h3>\n"
   ]
  },
  {
   "cell_type": "markdown",
   "metadata": {},
   "source": [
    "<b>References</b>\n"
   ]
  },
  {
   "cell_type": "markdown",
   "metadata": {},
   "source": [
    "[https://cloud.ibm.com/apidocs/speech-to-text?code=python](https://cloud.ibm.com/apidocs/speech-to-text?utm_medium=Exinfluencer&utm_source=Exinfluencer&utm_content=000026UJ&utm_term=10006555&utm_id=NA-SkillsNetwork-Channel-SkillsNetworkCoursesIBMDeveloperSkillsNetworkPY0101ENSkillsNetwork19487395-2021-01-01&code=python)\n"
   ]
  },
  {
   "cell_type": "markdown",
   "metadata": {},
   "source": [
    "[https://cloud.ibm.com/apidocs/language-translator?code=python](https://cloud.ibm.com/apidocs/language-translator?utm_medium=Exinfluencer&utm_source=Exinfluencer&utm_content=000026UJ&utm_term=10006555&utm_id=NA-SkillsNetwork-Channel-SkillsNetworkCoursesIBMDeveloperSkillsNetworkPY0101ENSkillsNetwork19487395-2021-01-01&code=python)\n"
   ]
  },
  {
   "cell_type": "markdown",
   "metadata": {},
   "source": [
    "<hr>\n"
   ]
  },
  {
   "cell_type": "markdown",
   "metadata": {},
   "source": [
    "## Authors:\n",
    "\n",
    "[Joseph Santarcangelo](https://www.linkedin.com/in/joseph-s-50398b136/?utm_medium=Exinfluencer&utm_source=Exinfluencer&utm_content=000026UJ&utm_term=10006555&utm_id=NA-SkillsNetwork-Channel-SkillsNetworkCoursesIBMDeveloperSkillsNetworkPY0101ENSkillsNetwork19487395-2021-01-01)\n",
    "\n",
    "Joseph Santarcangelo has a PhD in Electrical Engineering, his research focused on using machine learning, signal processing, and computer vision to determine how videos impact human cognition. Joseph has been working for IBM since he completed his PhD.\n",
    "\n",
    "## Other Contributor(s)\n",
    "\n",
    "<a href=\"https://www.linkedin.com/in/fanjiang0619/?utm_medium=Exinfluencer&utm_source=Exinfluencer&utm_content=000026UJ&utm_term=10006555&utm_id=NA-SkillsNetwork-Channel-SkillsNetworkCoursesIBMDeveloperSkillsNetworkPY0101ENSkillsNetwork19487395-2021-01-01\">Fan Jiang</a>\n",
    "\n",
    "## Change Log\n",
    "\n",
    "| Date (YYYY-MM-DD) | Version | Changed By | Change Description                 |\n",
    "| ----------------- | ------- | ---------- | ---------------------------------- |\n",
    "| 2021-04-07        | 2.2     | Malika     | Updated the libraries              |\n",
    "| 2021-01-05        | 2.1     | Malika     | Added a library                    |\n",
    "| 2020-08-26        | 2.0     | Lavanya    | Moved lab to course repo in GitLab |\n",
    "|                   |         |            |                                    |\n",
    "|                   |         |            |                                    |\n",
    "\n",
    "<hr/>\n",
    "\n",
    "## <h3 align=\"center\"> © IBM Corporation 2020. All rights reserved. <h3/>\n"
   ]
  }
 ],
 "metadata": {
  "kernelspec": {
   "display_name": "Python 3",
   "language": "python",
   "name": "python3"
  },
  "language_info": {
   "codemirror_mode": {
    "name": "ipython",
    "version": 3
   },
   "file_extension": ".py",
   "mimetype": "text/x-python",
   "name": "python",
   "nbconvert_exporter": "python",
   "pygments_lexer": "ipython3",
   "version": "3.8.8"
  }
 },
 "nbformat": 4,
 "nbformat_minor": 4
}
