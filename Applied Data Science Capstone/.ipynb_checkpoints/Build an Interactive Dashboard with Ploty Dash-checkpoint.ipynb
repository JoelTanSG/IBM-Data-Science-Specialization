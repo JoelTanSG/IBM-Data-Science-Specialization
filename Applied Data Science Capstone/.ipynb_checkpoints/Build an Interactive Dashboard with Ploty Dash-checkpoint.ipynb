{
 "cells": [
  {
   "cell_type": "code",
   "execution_count": 1,
   "id": "9e9a329d",
   "metadata": {},
   "outputs": [],
   "source": [
    "#!pip install dash==1.19.0  \n",
    "#!pip install jupyter_dash \n",
    "#!pip install --upgrade plotly"
   ]
  },
  {
   "cell_type": "markdown",
   "id": "8dc22719",
   "metadata": {},
   "source": [
    "Whenever you make changes to your code and want to rerun it  close the running instance, shutdown the kernel and restart the kernel and rerun the cells."
   ]
  },
  {
   "cell_type": "code",
   "execution_count": 2,
   "id": "c8f297e8",
   "metadata": {},
   "outputs": [],
   "source": [
    "#Skeleton Code copied from:\n",
    "# https://cf-courses-data.s3.us.cloud-object-storage.appdomain.cloud/IBM-DS0321EN-SkillsNetwork/labs/module_3/spacex_dash_app.py"
   ]
  },
  {
   "cell_type": "code",
   "execution_count": 3,
   "id": "1ef7a87d",
   "metadata": {},
   "outputs": [],
   "source": [
    "# Import required libraries\n",
    "import pandas as pd\n",
    "import dash\n",
    "import dash_html_components as html\n",
    "import dash_core_components as dcc\n",
    "from dash.dependencies import Input, Output\n",
    "import plotly.express as px\n",
    "from jupyter_dash import JupyterDash\n",
    "import plotly.graph_objects as go"
   ]
  },
  {
   "cell_type": "code",
   "execution_count": 4,
   "id": "cd19e37b",
   "metadata": {},
   "outputs": [],
   "source": [
    "url = 'https://cf-courses-data.s3.us.cloud-object-storage.appdomain.cloud/IBM-DS0321EN-SkillsNetwork/datasets/spacex_launch_dash.csv'"
   ]
  },
  {
   "cell_type": "code",
   "execution_count": 5,
   "id": "3d27ace3",
   "metadata": {},
   "outputs": [],
   "source": [
    "# Read the airline data into pandas dataframe\n",
    "spacex_df = pd.read_csv(url)\n",
    "max_payload = spacex_df['Payload Mass (kg)'].max()\n",
    "min_payload = spacex_df['Payload Mass (kg)'].min()"
   ]
  },
  {
   "cell_type": "code",
   "execution_count": 6,
   "id": "bfaf2360",
   "metadata": {},
   "outputs": [],
   "source": [
    "# For marks slider Task 3\n",
    "mark = {0:'0'}\n",
    "for num in range(1000,10001,1000):\n",
    "    mark[num] = str(num)"
   ]
  },
  {
   "cell_type": "code",
   "execution_count": 7,
   "id": "f7234e81",
   "metadata": {},
   "outputs": [
    {
     "data": {
      "text/plain": [
       "array(['CCAFS LC-40', 'VAFB SLC-4E', 'KSC LC-39A', 'CCAFS SLC-40'],\n",
       "      dtype=object)"
      ]
     },
     "execution_count": 7,
     "metadata": {},
     "output_type": "execute_result"
    }
   ],
   "source": [
    "# For labels\n",
    "launchsites = spacex_df['Launch Site'].unique()\n",
    "launchsites"
   ]
  },
  {
   "cell_type": "code",
   "execution_count": 8,
   "id": "4b83e418",
   "metadata": {},
   "outputs": [
    {
     "name": "stdout",
     "output_type": "stream",
     "text": [
      "Successfully Run\n"
     ]
    }
   ],
   "source": [
    "# Create a dash application\n",
    "app = JupyterDash(__name__)\n",
    "\n",
    "# Create an app layout\n",
    "app.layout = html.Div(children=[html.H1('SpaceX Launch Records Dashboard',\n",
    "                                        style={'textAlign': 'center', 'color': '#503D36',\n",
    "                                               'font-size': 40}),\n",
    "                                # TASK 1: Add a dropdown list to enable Launch Site selection\n",
    "                                # The default select value is for ALL sites\n",
    "                                dcc.Dropdown(id='site_dropdown',\n",
    "                                            options=[\n",
    "                                                {'label':'All Sites','value':'ALL'},\n",
    "                                                {'label':launchsites[0],'value':launchsites[0]},\n",
    "                                                {'label':launchsites[1],'value':launchsites[1]},\n",
    "                                                {'label':launchsites[2],'value':launchsites[2]},\n",
    "                                                {'label':launchsites[3],'value':launchsites[3]}\n",
    "                                            ],\n",
    "                                            value='ALL',\n",
    "                                            placeholder=\"Select a Launch Site\",\n",
    "                                            searchable=True),\n",
    "                                html.Br(),\n",
    "\n",
    "                                # TASK 2: Add a pie chart to show the total successful launches count for all sites\n",
    "                                # return the outcomes piechart for a selected site\n",
    "                                # If a specific launch site was selected, show the Success vs. Failed counts for the site\n",
    "                                html.Div(dcc.Graph(id='pie-chart')),\n",
    "                                html.Br(),\n",
    "                                \n",
    "                                # TASK 3: Add a slider to select payload range\n",
    "                                html.P(\"Payload range (Kg):\"),\n",
    "                                dcc.RangeSlider(id='payload_slider',\n",
    "                                               min = 0,\n",
    "                                                max =10000,\n",
    "                                                step=1000,\n",
    "                                                marks=mark,\n",
    "                                                value=[min_payload,max_payload]),\n",
    "\n",
    "                                # TASK 4: Add a scatter chart to show the correlation between payload and launch success\n",
    "                                html.Div(dcc.Graph(id='scatter-chart'))\n",
    "                                ])\n",
    "\n",
    "# TASK 2:\n",
    "# Add a callback function for `site-dropdown` as input, `success-pie-chart` as output\n",
    "@app.callback(Output(component_id='pie-chart', component_property='figure'),\n",
    "              [Input(component_id='site_dropdown', component_property='value'),\n",
    "               Input(component_id='payload_slider', component_property='value')])\n",
    "\n",
    "def get_pie_chart(site_dropdown,payload_slider):\n",
    "    low,high=payload_slider\n",
    "    \n",
    "    ranged_df=spacex_df[(spacex_df['Payload Mass (kg)'] >= low)&\n",
    "                       (spacex_df['Payload Mass (kg)'] <= high)]\n",
    "    \n",
    "    filtered_df = ranged_df[ranged_df['Launch Site']==site_dropdown]\n",
    "    #filtered_df = spacex_df[spacex_df['Launch Site']==site_dropdown]\n",
    "    value = filtered_df['class'].value_counts()\n",
    "    name = names=filtered_df['class'].unique()\n",
    "    if site_dropdown == 'ALL':\n",
    "        fig = px.pie(ranged_df, values='class', \n",
    "                     names='Launch Site', \n",
    "                     title='Success Rate of Launch Sites')\n",
    "        return fig\n",
    "    else:\n",
    "        fig = px.pie(filtered_df, values=value, \n",
    "                     names=name, \n",
    "                     title='Launch Site Outcome')\n",
    "        return fig\n",
    "\n",
    "# TASK 4:\n",
    "# Add a callback function for `site-dropdown` and `payload-slider` as inputs, `success-payload-scatter-chart` as output\n",
    "@app.callback(Output(component_id='scatter-chart', component_property='figure'),\n",
    "              [Input(component_id='site_dropdown', component_property='value'),\n",
    "               Input(component_id='payload_slider', component_property='value')])\n",
    "\n",
    "def get_scatter_plot(site_dropdown,payload_slider):    \n",
    "    low,high=payload_slider\n",
    "    \n",
    "    ranged_df=spacex_df[(spacex_df['Payload Mass (kg)'] >= low)&\n",
    "                       (spacex_df['Payload Mass (kg)'] <= high)]\n",
    "    \n",
    "    filtered_df = ranged_df[ranged_df['Launch Site']==site_dropdown]\n",
    "    \n",
    "    if site_dropdown == 'ALL':\n",
    "        fig = px.scatter(data_frame=ranged_df,x='Payload Mass (kg)',y='class',\n",
    "                         color='Booster Version Category',\n",
    "                         labels= 'Booster Version Category')\n",
    "        return fig\n",
    "    else:\n",
    "        fig = px.scatter(data_frame=filtered_df,x='Payload Mass (kg)',y='class',\n",
    "                         color='Booster Version Category',\n",
    "                         labels= 'Booster Version Category')\n",
    "        return fig\n",
    "\n",
    "\n",
    "# Run the app\n",
    "if __name__ == '__main__':\n",
    "    app.run_server(mode='jupyterlab', port = 8090 ,dev_tools_ui=True, #debug=True,\n",
    "                   dev_tools_hot_reload =True, threaded=True)\n",
    "    \n",
    "print('Successfully Run')"
   ]
  },
  {
   "cell_type": "markdown",
   "id": "3c7d2919",
   "metadata": {},
   "source": [
    "To see in browser: http://localhost:8090"
   ]
  }
 ],
 "metadata": {
  "kernelspec": {
   "display_name": "Python 3 (ipykernel)",
   "language": "python",
   "name": "python3"
  },
  "language_info": {
   "codemirror_mode": {
    "name": "ipython",
    "version": 3
   },
   "file_extension": ".py",
   "mimetype": "text/x-python",
   "name": "python",
   "nbconvert_exporter": "python",
   "pygments_lexer": "ipython3",
   "version": "3.8.12"
  }
 },
 "nbformat": 4,
 "nbformat_minor": 5
}
